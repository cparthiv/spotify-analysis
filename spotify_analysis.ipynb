{
 "cells": [
  {
   "cell_type": "code",
   "execution_count": 25,
   "metadata": {},
   "outputs": [],
   "source": [
    "%matplotlib inline\n",
    "import pandas as pd\n",
    "import numpy as np\n",
    "import matplotlib\n",
    "import matplotlib.pyplot as plt\n",
    "import seaborn as sns\n",
    "from wordcloud import WordCloud"
   ]
  },
  {
   "cell_type": "code",
   "execution_count": 26,
   "metadata": {},
   "outputs": [],
   "source": [
    "history_df = pd.read_json('data/streaming_history.json')\n",
    "# print(history_df.head())"
   ]
  },
  {
   "cell_type": "code",
   "execution_count": 27,
   "metadata": {},
   "outputs": [
    {
     "name": "stdout",
     "output_type": "stream",
     "text": [
      "(13509, 21)\n"
     ]
    }
   ],
   "source": [
    "history_df.to_csv('data/streaming_history.csv', index=False)\n",
    "print(history_df.shape)"
   ]
  },
  {
   "cell_type": "code",
   "execution_count": 28,
   "metadata": {},
   "outputs": [
    {
     "name": "stdout",
     "output_type": "stream",
     "text": [
      "<class 'pandas.core.frame.DataFrame'>\n",
      "RangeIndex: 13509 entries, 0 to 13508\n",
      "Data columns (total 21 columns):\n",
      " #   Column                             Non-Null Count  Dtype  \n",
      "---  ------                             --------------  -----  \n",
      " 0   ts                                 13509 non-null  object \n",
      " 1   username                           13509 non-null  object \n",
      " 2   platform                           13509 non-null  object \n",
      " 3   ms_played                          13509 non-null  int64  \n",
      " 4   conn_country                       13509 non-null  object \n",
      " 5   ip_addr_decrypted                  13509 non-null  object \n",
      " 6   user_agent_decrypted               11607 non-null  object \n",
      " 7   master_metadata_track_name         13402 non-null  object \n",
      " 8   master_metadata_album_artist_name  13402 non-null  object \n",
      " 9   master_metadata_album_album_name   13402 non-null  object \n",
      " 10  spotify_track_uri                  13402 non-null  object \n",
      " 11  episode_name                       20 non-null     object \n",
      " 12  episode_show_name                  20 non-null     object \n",
      " 13  spotify_episode_uri                20 non-null     object \n",
      " 14  reason_start                       13509 non-null  object \n",
      " 15  reason_end                         13509 non-null  object \n",
      " 16  shuffle                            13509 non-null  bool   \n",
      " 17  skipped                            13201 non-null  float64\n",
      " 18  offline                            13509 non-null  bool   \n",
      " 19  offline_timestamp                  13509 non-null  int64  \n",
      " 20  incognito_mode                     13509 non-null  bool   \n",
      "dtypes: bool(3), float64(1), int64(2), object(15)\n",
      "memory usage: 1.9+ MB\n"
     ]
    }
   ],
   "source": [
    "history_df.info()\n",
    "# We can probably drop episode name, episode show name and episode uri"
   ]
  },
  {
   "cell_type": "code",
   "execution_count": 39,
   "metadata": {},
   "outputs": [
    {
     "data": {
      "text/html": [
       "<div>\n",
       "<style scoped>\n",
       "    .dataframe tbody tr th:only-of-type {\n",
       "        vertical-align: middle;\n",
       "    }\n",
       "\n",
       "    .dataframe tbody tr th {\n",
       "        vertical-align: top;\n",
       "    }\n",
       "\n",
       "    .dataframe thead th {\n",
       "        text-align: right;\n",
       "    }\n",
       "</style>\n",
       "<table border=\"1\" class=\"dataframe\">\n",
       "  <thead>\n",
       "    <tr style=\"text-align: right;\">\n",
       "      <th></th>\n",
       "      <th>ts</th>\n",
       "      <th>ms_played</th>\n",
       "      <th>master_metadata_track_name</th>\n",
       "      <th>master_metadata_album_artist_name</th>\n",
       "    </tr>\n",
       "  </thead>\n",
       "  <tbody>\n",
       "    <tr>\n",
       "      <th>6737</th>\n",
       "      <td>2023-12-23 22:02:56+00:00</td>\n",
       "      <td>22617</td>\n",
       "      <td>ILoveUIHateU</td>\n",
       "      <td>Playboi Carti</td>\n",
       "    </tr>\n",
       "    <tr>\n",
       "      <th>12988</th>\n",
       "      <td>2024-06-08 20:59:47+00:00</td>\n",
       "      <td>184772</td>\n",
       "      <td>dothatshit!</td>\n",
       "      <td>Playboi Carti</td>\n",
       "    </tr>\n",
       "    <tr>\n",
       "      <th>8736</th>\n",
       "      <td>2024-02-23 18:56:17+00:00</td>\n",
       "      <td>173253</td>\n",
       "      <td>SAY MY GRACE (feat. Travis Scott)</td>\n",
       "      <td>Offset</td>\n",
       "    </tr>\n",
       "    <tr>\n",
       "      <th>3637</th>\n",
       "      <td>2023-09-26 05:28:10+00:00</td>\n",
       "      <td>2930</td>\n",
       "      <td>I Can't Save You (Interlude) [with Future &amp; fe...</td>\n",
       "      <td>Metro Boomin</td>\n",
       "    </tr>\n",
       "    <tr>\n",
       "      <th>7025</th>\n",
       "      <td>2024-01-05 14:42:54+00:00</td>\n",
       "      <td>205351</td>\n",
       "      <td>can't leave without it</td>\n",
       "      <td>21 Savage</td>\n",
       "    </tr>\n",
       "    <tr>\n",
       "      <th>3049</th>\n",
       "      <td>2023-07-29 12:38:58+00:00</td>\n",
       "      <td>185220</td>\n",
       "      <td>K-POP (feat. Bad Bunny &amp; The Weeknd)</td>\n",
       "      <td>Travis Scott</td>\n",
       "    </tr>\n",
       "    <tr>\n",
       "      <th>6538</th>\n",
       "      <td>2023-12-20 00:11:57+00:00</td>\n",
       "      <td>231</td>\n",
       "      <td>K-POP</td>\n",
       "      <td>Travis Scott</td>\n",
       "    </tr>\n",
       "    <tr>\n",
       "      <th>1444</th>\n",
       "      <td>2023-06-02 17:11:11+00:00</td>\n",
       "      <td>3150</td>\n",
       "      <td>Son Of A Gun</td>\n",
       "      <td>Key Glock</td>\n",
       "    </tr>\n",
       "    <tr>\n",
       "      <th>3823</th>\n",
       "      <td>2023-10-04 13:23:30+00:00</td>\n",
       "      <td>34063</td>\n",
       "      <td>Did Me Wrong</td>\n",
       "      <td>A Boogie Wit da Hoodie</td>\n",
       "    </tr>\n",
       "    <tr>\n",
       "      <th>11619</th>\n",
       "      <td>2024-05-21 18:22:31+00:00</td>\n",
       "      <td>7220</td>\n",
       "      <td>Control</td>\n",
       "      <td>Playboi Carti</td>\n",
       "    </tr>\n",
       "  </tbody>\n",
       "</table>\n",
       "</div>"
      ],
      "text/plain": [
       "                             ts  ms_played  \\\n",
       "6737  2023-12-23 22:02:56+00:00      22617   \n",
       "12988 2024-06-08 20:59:47+00:00     184772   \n",
       "8736  2024-02-23 18:56:17+00:00     173253   \n",
       "3637  2023-09-26 05:28:10+00:00       2930   \n",
       "7025  2024-01-05 14:42:54+00:00     205351   \n",
       "3049  2023-07-29 12:38:58+00:00     185220   \n",
       "6538  2023-12-20 00:11:57+00:00        231   \n",
       "1444  2023-06-02 17:11:11+00:00       3150   \n",
       "3823  2023-10-04 13:23:30+00:00      34063   \n",
       "11619 2024-05-21 18:22:31+00:00       7220   \n",
       "\n",
       "                              master_metadata_track_name  \\\n",
       "6737                                        ILoveUIHateU   \n",
       "12988                                        dothatshit!   \n",
       "8736                   SAY MY GRACE (feat. Travis Scott)   \n",
       "3637   I Can't Save You (Interlude) [with Future & fe...   \n",
       "7025                              can't leave without it   \n",
       "3049                K-POP (feat. Bad Bunny & The Weeknd)   \n",
       "6538                                               K-POP   \n",
       "1444                                        Son Of A Gun   \n",
       "3823                                        Did Me Wrong   \n",
       "11619                                            Control   \n",
       "\n",
       "      master_metadata_album_artist_name  \n",
       "6737                      Playboi Carti  \n",
       "12988                     Playboi Carti  \n",
       "8736                             Offset  \n",
       "3637                       Metro Boomin  \n",
       "7025                          21 Savage  \n",
       "3049                       Travis Scott  \n",
       "6538                       Travis Scott  \n",
       "1444                          Key Glock  \n",
       "3823             A Boogie Wit da Hoodie  \n",
       "11619                     Playboi Carti  "
      ]
     },
     "execution_count": 39,
     "metadata": {},
     "output_type": "execute_result"
    }
   ],
   "source": [
    "spotify_stream_df = history_df[[\n",
    "    'ts', 'ms_played', 'master_metadata_track_name', 'master_metadata_album_artist_name']].copy()\n",
    "# spotify_stream_df.tail(3)\n",
    "spotify_stream_df['ts'] = pd.to_datetime(spotify_stream_df['ts']) # convert to datetime\n",
    "\n",
    "spotify_stream_df.sample(10)"
   ]
  },
  {
   "cell_type": "code",
   "execution_count": 42,
   "metadata": {},
   "outputs": [
    {
     "name": "stdout",
     "output_type": "stream",
     "text": [
      "Unique Artists:  780\n",
      "Unique Tracks:  2901\n"
     ]
    }
   ],
   "source": [
    "# Unique artists and tracks:\n",
    "print(\"Unique Artists: \", len(spotify_stream_df[\"master_metadata_album_artist_name\"].unique()))\n",
    "print(\"Unique Tracks: \", len(spotify_stream_df[\"master_metadata_track_name\"].unique()))\n"
   ]
  },
  {
   "cell_type": "code",
   "execution_count": 43,
   "metadata": {},
   "outputs": [],
   "source": [
    "spotify_stream_df['play_time'] = pd.to_datetime(spotify_stream_df['ts'])\n",
    "spotify_stream_df['year'] = pd.DatetimeIndex(spotify_stream_df['play_time']).year\n",
    "spotify_stream_df['month'] = pd.DatetimeIndex(spotify_stream_df['play_time']).month\n",
    "spotify_stream_df['day'] = pd.DatetimeIndex(spotify_stream_df['play_time']).day\n",
    "spotify_stream_df['weekday'] = pd.DatetimeIndex(spotify_stream_df['play_time']).weekday\n",
    "spotify_stream_df['hour'] = pd.DatetimeIndex(spotify_stream_df['play_time']).hour\n",
    "spotify_stream_df['time'] = pd.DatetimeIndex(spotify_stream_df['play_time']).time\n",
    "spotify_stream_df['day-name'] = spotify_stream_df['play_time'].apply(lambda x: x.day_name())\n",
    "spotify_stream_df['count'] = 1"
   ]
  }
 ],
 "metadata": {
  "kernelspec": {
   "display_name": "Python 3",
   "language": "python",
   "name": "python3"
  },
  "language_info": {
   "codemirror_mode": {
    "name": "ipython",
    "version": 3
   },
   "file_extension": ".py",
   "mimetype": "text/x-python",
   "name": "python",
   "nbconvert_exporter": "python",
   "pygments_lexer": "ipython3",
   "version": "3.12.2"
  }
 },
 "nbformat": 4,
 "nbformat_minor": 2
}
