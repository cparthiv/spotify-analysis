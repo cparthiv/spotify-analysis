{
 "cells": [
  {
   "cell_type": "code",
   "execution_count": 25,
   "metadata": {},
   "outputs": [],
   "source": [
    "%matplotlib inline\n",
    "import pandas as pd\n",
    "import numpy as np\n",
    "import matplotlib\n",
    "import matplotlib.pyplot as plt\n",
    "import seaborn as sns\n",
    "from wordcloud import WordCloud"
   ]
  },
  {
   "cell_type": "code",
   "execution_count": 26,
   "metadata": {},
   "outputs": [],
   "source": [
    "history_df = pd.read_json('data/streaming_history.json')\n",
    "# print(history_df.head())"
   ]
  },
  {
   "cell_type": "code",
   "execution_count": 27,
   "metadata": {},
   "outputs": [
    {
     "name": "stdout",
     "output_type": "stream",
     "text": [
      "(13509, 21)\n"
     ]
    }
   ],
   "source": [
    "history_df.to_csv('data/streaming_history.csv', index=False)\n",
    "print(history_df.shape)"
   ]
  },
  {
   "cell_type": "code",
   "execution_count": 28,
   "metadata": {},
   "outputs": [
    {
     "name": "stdout",
     "output_type": "stream",
     "text": [
      "<class 'pandas.core.frame.DataFrame'>\n",
      "RangeIndex: 13509 entries, 0 to 13508\n",
      "Data columns (total 21 columns):\n",
      " #   Column                             Non-Null Count  Dtype  \n",
      "---  ------                             --------------  -----  \n",
      " 0   ts                                 13509 non-null  object \n",
      " 1   username                           13509 non-null  object \n",
      " 2   platform                           13509 non-null  object \n",
      " 3   ms_played                          13509 non-null  int64  \n",
      " 4   conn_country                       13509 non-null  object \n",
      " 5   ip_addr_decrypted                  13509 non-null  object \n",
      " 6   user_agent_decrypted               11607 non-null  object \n",
      " 7   master_metadata_track_name         13402 non-null  object \n",
      " 8   master_metadata_album_artist_name  13402 non-null  object \n",
      " 9   master_metadata_album_album_name   13402 non-null  object \n",
      " 10  spotify_track_uri                  13402 non-null  object \n",
      " 11  episode_name                       20 non-null     object \n",
      " 12  episode_show_name                  20 non-null     object \n",
      " 13  spotify_episode_uri                20 non-null     object \n",
      " 14  reason_start                       13509 non-null  object \n",
      " 15  reason_end                         13509 non-null  object \n",
      " 16  shuffle                            13509 non-null  bool   \n",
      " 17  skipped                            13201 non-null  float64\n",
      " 18  offline                            13509 non-null  bool   \n",
      " 19  offline_timestamp                  13509 non-null  int64  \n",
      " 20  incognito_mode                     13509 non-null  bool   \n",
      "dtypes: bool(3), float64(1), int64(2), object(15)\n",
      "memory usage: 1.9+ MB\n"
     ]
    }
   ],
   "source": [
    "history_df.info()\n",
    "# We can probably drop episode name, episode show name and episode uri"
   ]
  },
  {
   "cell_type": "code",
   "execution_count": 35,
   "metadata": {},
   "outputs": [
    {
     "data": {
      "text/html": [
       "<div>\n",
       "<style scoped>\n",
       "    .dataframe tbody tr th:only-of-type {\n",
       "        vertical-align: middle;\n",
       "    }\n",
       "\n",
       "    .dataframe tbody tr th {\n",
       "        vertical-align: top;\n",
       "    }\n",
       "\n",
       "    .dataframe thead th {\n",
       "        text-align: right;\n",
       "    }\n",
       "</style>\n",
       "<table border=\"1\" class=\"dataframe\">\n",
       "  <thead>\n",
       "    <tr style=\"text-align: right;\">\n",
       "      <th></th>\n",
       "      <th>ts</th>\n",
       "      <th>ms_played</th>\n",
       "      <th>master_metadata_track_name</th>\n",
       "      <th>master_metadata_album_artist_name</th>\n",
       "    </tr>\n",
       "  </thead>\n",
       "  <tbody>\n",
       "    <tr>\n",
       "      <th>13506</th>\n",
       "      <td>2024-06-12T22:16:20Z</td>\n",
       "      <td>110926</td>\n",
       "      <td>Go</td>\n",
       "      <td>Ken Carson</td>\n",
       "    </tr>\n",
       "    <tr>\n",
       "      <th>13507</th>\n",
       "      <td>2024-06-12T22:19:33Z</td>\n",
       "      <td>192213</td>\n",
       "      <td>Like This (feat. Lil Uzi Vert, Destroy Lonely)</td>\n",
       "      <td>Ken Carson</td>\n",
       "    </tr>\n",
       "    <tr>\n",
       "      <th>13508</th>\n",
       "      <td>2024-06-12T23:42:58Z</td>\n",
       "      <td>113030</td>\n",
       "      <td>Fighting My Demons</td>\n",
       "      <td>Ken Carson</td>\n",
       "    </tr>\n",
       "  </tbody>\n",
       "</table>\n",
       "</div>"
      ],
      "text/plain": [
       "                         ts  ms_played  \\\n",
       "13506  2024-06-12T22:16:20Z     110926   \n",
       "13507  2024-06-12T22:19:33Z     192213   \n",
       "13508  2024-06-12T23:42:58Z     113030   \n",
       "\n",
       "                           master_metadata_track_name  \\\n",
       "13506                                              Go   \n",
       "13507  Like This (feat. Lil Uzi Vert, Destroy Lonely)   \n",
       "13508                              Fighting My Demons   \n",
       "\n",
       "      master_metadata_album_artist_name  \n",
       "13506                        Ken Carson  \n",
       "13507                        Ken Carson  \n",
       "13508                        Ken Carson  "
      ]
     },
     "execution_count": 35,
     "metadata": {},
     "output_type": "execute_result"
    }
   ],
   "source": [
    "spotify_stream_df = history_df[[\n",
    "    'ts', 'ms_played', 'master_metadata_track_name', 'master_metadata_album_artist_name']].copy()\n",
    "spotify_stream_df.tail(3)"
   ]
  },
  {
   "cell_type": "code",
   "execution_count": null,
   "metadata": {},
   "outputs": [],
   "source": []
  }
 ],
 "metadata": {
  "kernelspec": {
   "display_name": "Python 3",
   "language": "python",
   "name": "python3"
  },
  "language_info": {
   "codemirror_mode": {
    "name": "ipython",
    "version": 3
   },
   "file_extension": ".py",
   "mimetype": "text/x-python",
   "name": "python",
   "nbconvert_exporter": "python",
   "pygments_lexer": "ipython3",
   "version": "3.12.2"
  }
 },
 "nbformat": 4,
 "nbformat_minor": 2
}
